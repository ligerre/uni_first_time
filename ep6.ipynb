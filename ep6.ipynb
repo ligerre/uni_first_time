{
 "cells": [
  {
   "cell_type": "code",
   "execution_count": 17,
   "metadata": {},
   "outputs": [],
   "source": [
    "using LinearAlgebra, ForwardDiff"
   ]
  },
  {
   "cell_type": "code",
   "execution_count": 18,
   "metadata": {},
   "outputs": [
    {
     "data": {
      "text/plain": [
       "1.0e-6"
      ]
     },
     "execution_count": 18,
     "metadata": {},
     "output_type": "execute_result"
    }
   ],
   "source": [
    "kmax = 200\n",
    "ϵ=10^(-6)"
   ]
  },
  {
   "cell_type": "code",
   "execution_count": 19,
   "metadata": {},
   "outputs": [
    {
     "ename": "LoadError",
     "evalue": "syntax: line break in \":\" expression",
     "output_type": "error",
     "traceback": [
      "syntax: line break in \":\" expression",
      "",
      "Stacktrace:",
      " [1] top-level scope",
      "   @ In[19]:13"
     ]
    }
   ],
   "source": [
    "function newton_method(f,x::Vector{Float64})\n",
    "    iter=0\n",
    "    X=[x]\n",
    "    while iter<kmax\n",
    "        iter+=1\n",
    "        f_current = f(x)\n",
    "        grad = ForwardDiff.jacobian(f,x)::Matrix{Float64}\n",
    "        if norm(f_current) < ϵ\n",
    "            return X, iter\n",
    "        end\n",
    "        d = -grad/f_current\n",
    "        if iter == 1\n",
    "            print(grad)\n",
    "        end\n",
    "        #d = reshape(d,length(x))\n",
    "        x=x+d\n",
    "        push!(X,x)\n",
    "    end\n",
    "    return X, iter\n",
    "end"
   ]
  },
  {
   "cell_type": "code",
   "execution_count": null,
   "metadata": {},
   "outputs": [
    {
     "data": {
      "text/plain": [
       "([[1.0, 1.0], [2.0, 0.0], [1.5, 0.0], [0.8333333333333334, 0.0], [-0.3666666666666666, 0.0], [2.360606060606061, 0.0], [1.93698603493212, 0.0], [1.4207200516128111, 0.0], [0.7168516161213904, 0.0], [-0.6781372177053603, 0.0]  …  [-16.596925502558136, 0.0], [-16.53667337936545, 0.0], [-16.476201724815642, 0.0], [-16.41550812463388, 0.0], [-16.354590120000243, 0.0], [-16.293445206391123, 0.0], [-16.232070832381645, 0.0], [-16.170464398407425, 0.0], [-16.108623255484005, 0.0], [-16.046544703882176, 0.0]], 200)"
      ]
     },
     "execution_count": 15,
     "metadata": {},
     "output_type": "execute_result"
    }
   ],
   "source": [
    "f1(x) = [x[1]-x[2],x[1]*x[2]]'\n",
    "x1,iter1 = newton_method(f1,[1.0,1.0])\n",
    "nothing;"
   ]
  },
  {
   "cell_type": "code",
   "execution_count": null,
   "metadata": {},
   "outputs": [
    {
     "name": "stdout",
     "output_type": "stream",
     "text": [
      "200"
     ]
    }
   ],
   "source": [
    "print(iter1)"
   ]
  }
 ],
 "metadata": {
  "kernelspec": {
   "display_name": "Julia 1.8.2",
   "language": "julia",
   "name": "julia-1.8"
  },
  "language_info": {
   "file_extension": ".jl",
   "mimetype": "application/julia",
   "name": "julia",
   "version": "1.8.2"
  },
  "orig_nbformat": 4
 },
 "nbformat": 4,
 "nbformat_minor": 2
}
