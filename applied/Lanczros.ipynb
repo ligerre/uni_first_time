{
 "cells": [
  {
   "cell_type": "code",
   "execution_count": 1,
   "id": "edbd40d5",
   "metadata": {},
   "outputs": [],
   "source": [
    "using SparseArrays, LinearAlgebra, Plots, Random"
   ]
  },
  {
   "cell_type": "code",
   "execution_count": 2,
   "id": "2a960a88",
   "metadata": {},
   "outputs": [
    {
     "data": {
      "text/plain": [
       "1.0e-6"
      ]
     },
     "execution_count": 2,
     "metadata": {},
     "output_type": "execute_result"
    }
   ],
   "source": [
    "n=10\n",
    "N = n*n\n",
    "max_iter = 3000\n",
    "ep = 10^(-6)"
   ]
  },
  {
   "cell_type": "code",
   "execution_count": 3,
   "id": "86b59222",
   "metadata": {},
   "outputs": [
    {
     "data": {
      "text/plain": [
       "100×100 SparseMatrixCSC{Float64, Int64} with 460 stored entries:\n",
       "⠻⣦⡀⠀⠑⢄⠀⠀⠀⠀⠀⠀⠀⠀⠀⠀⠀⠀⠀⠀⠀⠀⠀⠀⠀⠀⠀⠀⠀⠀⠀⠀⠀⠀⠀⠀⠀⠀⠀⠀\n",
       "⠀⠈⠻⣦⠀⠀⠑⢄⠀⠀⠀⠀⠀⠀⠀⠀⠀⠀⠀⠀⠀⠀⠀⠀⠀⠀⠀⠀⠀⠀⠀⠀⠀⠀⠀⠀⠀⠀⠀⠀\n",
       "⠑⢄⠀⠀⠻⣦⡀⠀⠑⢄⠀⠀⠀⠀⠀⠀⠀⠀⠀⠀⠀⠀⠀⠀⠀⠀⠀⠀⠀⠀⠀⠀⠀⠀⠀⠀⠀⠀⠀⠀\n",
       "⠀⠀⠑⢄⠀⠈⠻⣦⠀⠀⠑⢄⠀⠀⠀⠀⠀⠀⠀⠀⠀⠀⠀⠀⠀⠀⠀⠀⠀⠀⠀⠀⠀⠀⠀⠀⠀⠀⠀⠀\n",
       "⠀⠀⠀⠀⠑⢄⠀⠀⠻⣦⡀⠀⠑⢄⠀⠀⠀⠀⠀⠀⠀⠀⠀⠀⠀⠀⠀⠀⠀⠀⠀⠀⠀⠀⠀⠀⠀⠀⠀⠀\n",
       "⠀⠀⠀⠀⠀⠀⠑⢄⠀⠈⠻⣦⠀⠀⠑⢄⠀⠀⠀⠀⠀⠀⠀⠀⠀⠀⠀⠀⠀⠀⠀⠀⠀⠀⠀⠀⠀⠀⠀⠀\n",
       "⠀⠀⠀⠀⠀⠀⠀⠀⠑⢄⠀⠀⠻⣦⡀⠀⠑⢄⠀⠀⠀⠀⠀⠀⠀⠀⠀⠀⠀⠀⠀⠀⠀⠀⠀⠀⠀⠀⠀⠀\n",
       "⠀⠀⠀⠀⠀⠀⠀⠀⠀⠀⠑⢄⠀⠈⠻⣦⠀⠀⠑⢄⠀⠀⠀⠀⠀⠀⠀⠀⠀⠀⠀⠀⠀⠀⠀⠀⠀⠀⠀⠀\n",
       "⠀⠀⠀⠀⠀⠀⠀⠀⠀⠀⠀⠀⠑⢄⠀⠀⠻⣦⡀⠀⠱⢄⠀⠀⠀⠀⠀⠀⠀⠀⠀⠀⠀⠀⠀⠀⠀⠀⠀⠀\n",
       "⠀⠀⠀⠀⠀⠀⠀⠀⠀⠀⠀⠀⠀⠀⠑⢄⠀⠈⠻⣦⠀⠀⠱⢄⠀⠀⠀⠀⠀⠀⠀⠀⠀⠀⠀⠀⠀⠀⠀⠀\n",
       "⠀⠀⠀⠀⠀⠀⠀⠀⠀⠀⠀⠀⠀⠀⠀⠀⠑⢆⠀⠀⠻⣦⡀⠀⠑⢄⠀⠀⠀⠀⠀⠀⠀⠀⠀⠀⠀⠀⠀⠀\n",
       "⠀⠀⠀⠀⠀⠀⠀⠀⠀⠀⠀⠀⠀⠀⠀⠀⠀⠀⠑⢆⠀⠈⠻⣦⠀⠀⠑⢄⠀⠀⠀⠀⠀⠀⠀⠀⠀⠀⠀⠀\n",
       "⠀⠀⠀⠀⠀⠀⠀⠀⠀⠀⠀⠀⠀⠀⠀⠀⠀⠀⠀⠀⠑⢄⠀⠀⠻⣦⡀⠀⠑⢄⠀⠀⠀⠀⠀⠀⠀⠀⠀⠀\n",
       "⠀⠀⠀⠀⠀⠀⠀⠀⠀⠀⠀⠀⠀⠀⠀⠀⠀⠀⠀⠀⠀⠀⠑⢄⠀⠈⠻⣦⠀⠀⠑⢄⠀⠀⠀⠀⠀⠀⠀⠀\n",
       "⠀⠀⠀⠀⠀⠀⠀⠀⠀⠀⠀⠀⠀⠀⠀⠀⠀⠀⠀⠀⠀⠀⠀⠀⠑⢄⠀⠀⠻⣦⡀⠀⠑⢄⠀⠀⠀⠀⠀⠀\n",
       "⠀⠀⠀⠀⠀⠀⠀⠀⠀⠀⠀⠀⠀⠀⠀⠀⠀⠀⠀⠀⠀⠀⠀⠀⠀⠀⠑⢄⠀⠈⠻⣦⠀⠀⠑⢄⠀⠀⠀⠀\n",
       "⠀⠀⠀⠀⠀⠀⠀⠀⠀⠀⠀⠀⠀⠀⠀⠀⠀⠀⠀⠀⠀⠀⠀⠀⠀⠀⠀⠀⠑⢄⠀⠀⠻⣦⡀⠀⠑⢄⠀⠀\n",
       "⠀⠀⠀⠀⠀⠀⠀⠀⠀⠀⠀⠀⠀⠀⠀⠀⠀⠀⠀⠀⠀⠀⠀⠀⠀⠀⠀⠀⠀⠀⠑⢄⠀⠈⠻⣦⠀⠀⠑⢄\n",
       "⠀⠀⠀⠀⠀⠀⠀⠀⠀⠀⠀⠀⠀⠀⠀⠀⠀⠀⠀⠀⠀⠀⠀⠀⠀⠀⠀⠀⠀⠀⠀⠀⠑⢄⠀⠀⠻⣦⡀⠀\n",
       "⠀⠀⠀⠀⠀⠀⠀⠀⠀⠀⠀⠀⠀⠀⠀⠀⠀⠀⠀⠀⠀⠀⠀⠀⠀⠀⠀⠀⠀⠀⠀⠀⠀⠀⠑⢄⠀⠈⠻⣦"
      ]
     },
     "execution_count": 3,
     "metadata": {},
     "output_type": "execute_result"
    }
   ],
   "source": [
    "rows = vcat(collect(1:n),collect(1:n-1),collect(2:n))\n",
    "cols = vcat(collect(1:n),collect(2:n),collect(1:n-1))\n",
    "vals = vcat(2*ones(n),-ones(n-1),-ones(n-1))\n",
    "K=sparse(rows,cols,vals,n,n)\n",
    "ID = sparse(I,n,n)\n",
    "A = kron(K,ID) + kron(ID,K)"
   ]
  },
  {
   "cell_type": "code",
   "execution_count": 15,
   "id": "aaeed639",
   "metadata": {},
   "outputs": [
    {
     "data": {
      "text/plain": [
       "Lanczros (generic function with 1 method)"
      ]
     },
     "execution_count": 15,
     "metadata": {},
     "output_type": "execute_result"
    }
   ],
   "source": [
    "function Lanczros(A,x,m)\n",
    "    β=0\n",
    "    v_0=spzeros(N,1)\n",
    "    v_1=x/norm(x,2)\n",
    "    H = zeros(m,m)\n",
    "    for j=1:m\n",
    "        w= A*v_1 - β*v_0\n",
    "        α = (v_1'*w)[1]\n",
    "        w = w - α*v_1\n",
    "        \n",
    "        β=norm(w,2)\n",
    "        H[j,j]=α\n",
    "        if j<m\n",
    "            H[j+1,j]=β\n",
    "            H[j,j+1]=β\n",
    "        end\n",
    "        v_0=copy(v_1)\n",
    "        v_1 = w/β\n",
    "    end\n",
    "    return H\n",
    "end"
   ]
  },
  {
   "cell_type": "code",
   "execution_count": 19,
   "id": "1ea4aa2b",
   "metadata": {},
   "outputs": [
    {
     "data": {
      "text/plain": [
       "5-element Vector{Float64}:\n",
       " 0.16594482385879308\n",
       " 0.8914886645993009\n",
       " 2.2558814176339896\n",
       " 3.7648316036574823\n",
       " 6.200860851235972"
      ]
     },
     "execution_count": 19,
     "metadata": {},
     "output_type": "execute_result"
    }
   ],
   "source": [
    "r = sparse(ones(N))\n",
    "T = Lanczros(A,r,5)\n",
    "eigvals(T)"
   ]
  },
  {
   "cell_type": "code",
   "execution_count": 20,
   "id": "c83f465c",
   "metadata": {},
   "outputs": [
    {
     "data": {
      "text/plain": [
       "20-element Vector{Float64}:\n",
       " 0.16202810554201036\n",
       " 0.19535342825255586\n",
       " 0.5995509881780927\n",
       " 0.7712925848804355\n",
       " 0.9686414352103183\n",
       " 1.3805570642188598\n",
       " 1.7963843762244347\n",
       " 2.4056488555628595\n",
       " 2.9118440787747777\n",
       " 3.4307406469068567\n",
       " 3.5211085581131996\n",
       " 3.7635211184333666\n",
       " 4.372785597771793\n",
       " 4.5462003494572025\n",
       " 5.397877389115793\n",
       " 5.661660052007545\n",
       " 6.513337091666134\n",
       " 7.331288060261289\n",
       " 7.365014131324722\n",
       " 7.8207029556874055"
      ]
     },
     "execution_count": 20,
     "metadata": {},
     "output_type": "execute_result"
    }
   ],
   "source": [
    "T1 = Lanczros(A,r,20)\n",
    "eigvals(T1)"
   ]
  },
  {
   "cell_type": "code",
   "execution_count": 25,
   "id": "6accc648",
   "metadata": {},
   "outputs": [
    {
     "data": {
      "text/plain": [
       "100-element Vector{Float64}:\n",
       " 0.16202810554200311\n",
       " 0.39850698710863586\n",
       " 0.39850698710864413\n",
       " 0.6349858686752725\n",
       " 0.7712925848804314\n",
       " 0.7712925848804373\n",
       " 1.0077714664470638\n",
       " 1.0077714664470683\n",
       " 1.2501840267672337\n",
       " 1.250184026767236\n",
       " ⋮\n",
       " 6.7498159732327645\n",
       " 6.749815973232771\n",
       " 6.992228533552927\n",
       " 6.992228533552928\n",
       " 7.228707415119567\n",
       " 7.22870741511957\n",
       " 7.365014131324731\n",
       " 7.60149301289135\n",
       " 7.60149301289136\n",
       " 7.83797189445799"
      ]
     },
     "execution_count": 25,
     "metadata": {},
     "output_type": "execute_result"
    }
   ],
   "source": [
    "d=eigvals(Matrix(A))\n",
    "d"
   ]
  },
  {
   "cell_type": "code",
   "execution_count": null,
   "id": "86a3810e",
   "metadata": {},
   "outputs": [],
   "source": []
  }
 ],
 "metadata": {
  "kernelspec": {
   "display_name": "Julia 1.8.2",
   "language": "julia",
   "name": "julia-1.8"
  },
  "language_info": {
   "file_extension": ".jl",
   "mimetype": "application/julia",
   "name": "julia",
   "version": "1.8.2"
  }
 },
 "nbformat": 4,
 "nbformat_minor": 5
}
