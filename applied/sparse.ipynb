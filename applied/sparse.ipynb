{
 "cells": [
  {
   "cell_type": "code",
   "execution_count": 1,
   "id": "e50a7343",
   "metadata": {},
   "outputs": [],
   "source": [
    "using SparseArrays, LinearAlgebra, PyPlot, Random"
   ]
  },
  {
   "cell_type": "code",
   "execution_count": 17,
   "id": "2b64d93d",
   "metadata": {},
   "outputs": [
    {
     "data": {
      "text/plain": [
       "1.0e-6"
      ]
     },
     "execution_count": 17,
     "metadata": {},
     "output_type": "execute_result"
    }
   ],
   "source": [
    "n=1000\n",
    "N = n*n\n",
    "max_iter = 20000\n",
    "ep = 10^(-6)"
   ]
  },
  {
   "cell_type": "code",
   "execution_count": 18,
   "id": "c0086148",
   "metadata": {},
   "outputs": [
    {
     "data": {
      "text/plain": [
       "1000000×1000000 SparseMatrixCSC{Float64, Int64} with 4996000 stored entries:\n",
       "⠻⣦⡀⠀⠀⠀⠀⠀⠀⠀⠀⠀⠀⠀⠀⠀⠀⠀⠀⠀⠀⠀⠀⠀⠀⠀⠀⠀⠀⠀⠀⠀⠀⠀⠀⠀⠀⠀⠀⠀\n",
       "⠀⠈⠻⣦⡀⠀⠀⠀⠀⠀⠀⠀⠀⠀⠀⠀⠀⠀⠀⠀⠀⠀⠀⠀⠀⠀⠀⠀⠀⠀⠀⠀⠀⠀⠀⠀⠀⠀⠀⠀\n",
       "⠀⠀⠀⠈⠻⣦⡀⠀⠀⠀⠀⠀⠀⠀⠀⠀⠀⠀⠀⠀⠀⠀⠀⠀⠀⠀⠀⠀⠀⠀⠀⠀⠀⠀⠀⠀⠀⠀⠀⠀\n",
       "⠀⠀⠀⠀⠀⠈⠻⣦⡀⠀⠀⠀⠀⠀⠀⠀⠀⠀⠀⠀⠀⠀⠀⠀⠀⠀⠀⠀⠀⠀⠀⠀⠀⠀⠀⠀⠀⠀⠀⠀\n",
       "⠀⠀⠀⠀⠀⠀⠀⠈⠻⣦⡀⠀⠀⠀⠀⠀⠀⠀⠀⠀⠀⠀⠀⠀⠀⠀⠀⠀⠀⠀⠀⠀⠀⠀⠀⠀⠀⠀⠀⠀\n",
       "⠀⠀⠀⠀⠀⠀⠀⠀⠀⠈⠻⣦⡀⠀⠀⠀⠀⠀⠀⠀⠀⠀⠀⠀⠀⠀⠀⠀⠀⠀⠀⠀⠀⠀⠀⠀⠀⠀⠀⠀\n",
       "⠀⠀⠀⠀⠀⠀⠀⠀⠀⠀⠀⠈⠻⣦⡀⠀⠀⠀⠀⠀⠀⠀⠀⠀⠀⠀⠀⠀⠀⠀⠀⠀⠀⠀⠀⠀⠀⠀⠀⠀\n",
       "⠀⠀⠀⠀⠀⠀⠀⠀⠀⠀⠀⠀⠀⠈⠻⣦⡀⠀⠀⠀⠀⠀⠀⠀⠀⠀⠀⠀⠀⠀⠀⠀⠀⠀⠀⠀⠀⠀⠀⠀\n",
       "⠀⠀⠀⠀⠀⠀⠀⠀⠀⠀⠀⠀⠀⠀⠀⠈⠻⣦⡀⠀⠀⠀⠀⠀⠀⠀⠀⠀⠀⠀⠀⠀⠀⠀⠀⠀⠀⠀⠀⠀\n",
       "⠀⠀⠀⠀⠀⠀⠀⠀⠀⠀⠀⠀⠀⠀⠀⠀⠀⠈⠻⣦⡀⠀⠀⠀⠀⠀⠀⠀⠀⠀⠀⠀⠀⠀⠀⠀⠀⠀⠀⠀\n",
       "⠀⠀⠀⠀⠀⠀⠀⠀⠀⠀⠀⠀⠀⠀⠀⠀⠀⠀⠀⠈⠻⣦⡀⠀⠀⠀⠀⠀⠀⠀⠀⠀⠀⠀⠀⠀⠀⠀⠀⠀\n",
       "⠀⠀⠀⠀⠀⠀⠀⠀⠀⠀⠀⠀⠀⠀⠀⠀⠀⠀⠀⠀⠀⠈⠻⣦⡀⠀⠀⠀⠀⠀⠀⠀⠀⠀⠀⠀⠀⠀⠀⠀\n",
       "⠀⠀⠀⠀⠀⠀⠀⠀⠀⠀⠀⠀⠀⠀⠀⠀⠀⠀⠀⠀⠀⠀⠀⠈⠻⣦⡀⠀⠀⠀⠀⠀⠀⠀⠀⠀⠀⠀⠀⠀\n",
       "⠀⠀⠀⠀⠀⠀⠀⠀⠀⠀⠀⠀⠀⠀⠀⠀⠀⠀⠀⠀⠀⠀⠀⠀⠀⠈⠻⣦⡀⠀⠀⠀⠀⠀⠀⠀⠀⠀⠀⠀\n",
       "⠀⠀⠀⠀⠀⠀⠀⠀⠀⠀⠀⠀⠀⠀⠀⠀⠀⠀⠀⠀⠀⠀⠀⠀⠀⠀⠀⠈⠻⣦⡀⠀⠀⠀⠀⠀⠀⠀⠀⠀\n",
       "⠀⠀⠀⠀⠀⠀⠀⠀⠀⠀⠀⠀⠀⠀⠀⠀⠀⠀⠀⠀⠀⠀⠀⠀⠀⠀⠀⠀⠀⠈⠻⣦⡀⠀⠀⠀⠀⠀⠀⠀\n",
       "⠀⠀⠀⠀⠀⠀⠀⠀⠀⠀⠀⠀⠀⠀⠀⠀⠀⠀⠀⠀⠀⠀⠀⠀⠀⠀⠀⠀⠀⠀⠀⠈⠻⣦⡀⠀⠀⠀⠀⠀\n",
       "⠀⠀⠀⠀⠀⠀⠀⠀⠀⠀⠀⠀⠀⠀⠀⠀⠀⠀⠀⠀⠀⠀⠀⠀⠀⠀⠀⠀⠀⠀⠀⠀⠀⠈⠻⣦⡀⠀⠀⠀\n",
       "⠀⠀⠀⠀⠀⠀⠀⠀⠀⠀⠀⠀⠀⠀⠀⠀⠀⠀⠀⠀⠀⠀⠀⠀⠀⠀⠀⠀⠀⠀⠀⠀⠀⠀⠀⠈⠻⣦⡀⠀\n",
       "⠀⠀⠀⠀⠀⠀⠀⠀⠀⠀⠀⠀⠀⠀⠀⠀⠀⠀⠀⠀⠀⠀⠀⠀⠀⠀⠀⠀⠀⠀⠀⠀⠀⠀⠀⠀⠀⠈⠻⣦"
      ]
     },
     "execution_count": 18,
     "metadata": {},
     "output_type": "execute_result"
    }
   ],
   "source": [
    "rows = vcat(collect(1:n),collect(1:n-1),collect(2:n))\n",
    "cols = vcat(collect(1:n),collect(2:n),collect(1:n-1))\n",
    "vals = vcat(2*ones(n),-ones(n-1),-ones(n-1))\n",
    "K=sparse(rows,cols,vals,n,n)\n",
    "ID = sparse(I,n,n)\n",
    "A = kron(K,ID) + kron(ID,K)"
   ]
  },
  {
   "cell_type": "code",
   "execution_count": 12,
   "id": "47e9302b",
   "metadata": {},
   "outputs": [
    {
     "data": {
      "text/plain": [
       "Steepest_descend (generic function with 1 method)"
      ]
     },
     "execution_count": 12,
     "metadata": {},
     "output_type": "execute_result"
    }
   ],
   "source": [
    "function Steepest_descend(A,b,x::SparseMatrixCSC)\n",
    "    error = []\n",
    "    r = b-A*x\n",
    "    ref = norm(r'*A*r)\n",
    "    \n",
    "    for i in 1:max_iter\n",
    "        \n",
    "        r = b-A*x\n",
    "        energy = norm(r'*A*r)\n",
    "        push!(error,log(energy/ref))\n",
    "        #println(energy)\n",
    "        if energy < ep\n",
    "            return x,error\n",
    "        end\n",
    "        alpha = norm(r'*r)/energy\n",
    "        x+=alpha*r\n",
    "    end\n",
    "    return x,error\n",
    "end\n",
    "\n"
   ]
  },
  {
   "cell_type": "code",
   "execution_count": 20,
   "id": "42319132",
   "metadata": {},
   "outputs": [],
   "source": [
    "b = sprand(N,1,1.0)\n",
    "x_0 = sprand(N,1,1.0)\n",
    "nothing;"
   ]
  },
  {
   "cell_type": "code",
   "execution_count": null,
   "id": "08d09608",
   "metadata": {},
   "outputs": [],
   "source": [
    "\n",
    "x,error = Steepest_descend(A,b,x_0)\n",
    "nothing;"
   ]
  },
  {
   "cell_type": "code",
   "execution_count": 14,
   "id": "b7e03cc0",
   "metadata": {},
   "outputs": [
    {
     "data": {
      "image/png": "[encoded data removed]",
      "text/plain": [
       "Figure(PyObject <Figure size 640x480 with 1 Axes>)"
      ]
     },
     "metadata": {},
     "output_type": "display_data"
    },
    {
     "data": {
      "text/plain": [
       "1-element Vector{PyCall.PyObject}:\n",
       " PyObject <matplotlib.lines.Line2D object at 0x00000000024A5DE0>"
      ]
     },
     "execution_count": 14,
     "metadata": {},
     "output_type": "execute_result"
    }
   ],
   "source": [
    "plot(error)"
   ]
  },
  {
   "cell_type": "code",
   "execution_count": 15,
   "id": "9e56dc82",
   "metadata": {},
   "outputs": [
    {
     "data": {
      "text/plain": [
       "conjugate_gradient (generic function with 1 method)"
      ]
     },
     "execution_count": 15,
     "metadata": {},
     "output_type": "execute_result"
    }
   ],
   "source": [
    "function conjugate_gradient(A,b,x::SparseMatrixCSC)\n",
    "    error = []\n",
    "    \n",
    "    g=A*x_0-b\n",
    "    d=-g\n",
    "    prev_g = copy(g)\n",
    "\n",
    "    ref = norm(g'*A*g)\n",
    "    for i in 1:max_iter\n",
    "        energy = norm(g'*A*g)\n",
    "        push!(error,log(energy/ref))\n",
    "        #println(energy)\n",
    "        if energy < ep\n",
    "            return x,error\n",
    "        end\n",
    "        \n",
    "        t = norm(g'*g)/ norm(d'*A*d)                                                #basic conjugate gradient\n",
    "        x = x + t*d\n",
    "        prev_g = copy(g)\n",
    "        g = g + t*A*d\n",
    "        β = norm(g'*g) / norm(prev_g'*prev_g)\n",
    "        d = -g + β*d\n",
    "    end\n",
    "\n",
    "    return x,error\n",
    "end\n",
    "\n"
   ]
  },
  {
   "cell_type": "code",
   "execution_count": 21,
   "id": "4cba9eeb",
   "metadata": {},
   "outputs": [
    {
     "data": {
      "image/png": "[encoded data removed]",
      "text/plain": [
       "Figure(PyObject <Figure size 640x480 with 1 Axes>)"
      ]
     },
     "metadata": {},
     "output_type": "display_data"
    },
    {
     "data": {
      "text/plain": [
       "1-element Vector{PyCall.PyObject}:\n",
       " PyObject <matplotlib.lines.Line2D object at 0x0000000000FC4670>"
      ]
     },
     "execution_count": 21,
     "metadata": {},
     "output_type": "execute_result"
    }
   ],
   "source": [
    "x_CG,error_CG = conjugate_gradient(A,b,x_0)\n",
    "plot(error_CG)"
   ]
  },
  {
   "cell_type": "code",
   "execution_count": 22,
   "id": "85159555",
   "metadata": {},
   "outputs": [
    {
     "name": "stdout",
     "output_type": "stream",
     "text": [
      "2361\n"
     ]
    }
   ],
   "source": [
    "println(length(error_CG))"
   ]
  }
 ],
 "metadata": {
  "kernelspec": {
   "display_name": "Julia 1.8.2",
   "language": "julia",
   "name": "julia-1.8"
  },
  "language_info": {
   "file_extension": ".jl",
   "mimetype": "application/julia",
   "name": "julia",
   "version": "1.8.2"
  }
 },
 "nbformat": 4,
 "nbformat_minor": 5
}
