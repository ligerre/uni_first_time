{
 "cells": [
  {
   "cell_type": "code",
   "execution_count": 1,
   "id": "855c4f03",
   "metadata": {},
   "outputs": [],
   "source": [
    "using LinearAlgebra, ForwardDiff"
   ]
  },
  {
   "cell_type": "code",
   "execution_count": 2,
   "id": "d61fa0ed",
   "metadata": {},
   "outputs": [
    {
     "data": {
      "text/plain": [
       "1.0e-6"
      ]
     },
     "execution_count": 2,
     "metadata": {},
     "output_type": "execute_result"
    }
   ],
   "source": [
    "kmax = 200\n",
    "ϵ=10^(-6)"
   ]
  },
  {
   "cell_type": "code",
   "execution_count": 3,
   "id": "e037e11c",
   "metadata": {},
   "outputs": [
    {
     "data": {
      "text/plain": [
       "newton_method (generic function with 1 method)"
      ]
     },
     "execution_count": 3,
     "metadata": {},
     "output_type": "execute_result"
    }
   ],
   "source": [
    "function newton_method(f,x::Vector{Float64})\n",
    "    iter=0\n",
    "    X=[x]\n",
    "    while iter<kmax\n",
    "        iter+=1\n",
    "        grad = ForwardDiff.gradient(f,x)::Vector{Float64}\n",
    "        if norm(grad) < ϵ\n",
    "            return X, iter\n",
    "        end\n",
    "        hessian = ForwardDiff.hessian(f, x)::Matrix{Float64}\n",
    "        println(size(grad))\n",
    "        println(size(hessian))\n",
    "        d = -hessian\\grad\n",
    "        if iter ==1\n",
    "            println(det(hessian))\n",
    "        end\n",
    "        #d = reshape(d,length(x))\n",
    "        x=x+d\n",
    "        push!(X,x)\n",
    "    end\n",
    "    return X, iter\n",
    "end"
   ]
  },
  {
   "cell_type": "code",
   "execution_count": 4,
   "id": "988e243c",
   "metadata": {},
   "outputs": [
    {
     "name": "stdout",
     "output_type": "stream",
     "text": [
      "(2,)\n",
      "(2, 2)\n",
      "35599.99999999998\n",
      "(2,)\n",
      "(2, 2)\n",
      "(2,)\n",
      "(2, 2)\n",
      "(2,)\n",
      "(2, 2)\n",
      "(2,)\n",
      "(2, 2)\n",
      "(2,)\n",
      "(2, 2)\n"
     ]
    },
    {
     "data": {
      "text/plain": [
       "([[-1.2, 1.0], [-1.1752808988764043, 1.3806741573033705], [0.763114871176745, -3.1750338547488415], [0.7634296788843487, 0.5828247754975662], [0.9999953110849514, 0.9440273238534179], [0.9999956956536327, 0.999991391325645], [0.9999999999999999, 0.9999999999814724]], 7)"
      ]
     },
     "execution_count": 4,
     "metadata": {},
     "output_type": "execute_result"
    }
   ],
   "source": [
    "f1(x) = (1-x[1])^2 + 100*(x[2]-x[1]^2)^2\n",
    "X1, iter1 = newton_method(f1,[-1.2,1])"
   ]
  },
  {
   "cell_type": "code",
   "execution_count": 80,
   "id": "c0aaa370",
   "metadata": {},
   "outputs": [
    {
     "data": {
      "text/plain": [
       "f2 (generic function with 1 method)"
      ]
     },
     "execution_count": 80,
     "metadata": {},
     "output_type": "execute_result"
    }
   ],
   "source": [
    "function f2(x)\n",
    "    res = 0\n",
    "    for i =1:4\n",
    "        temp = 0\n",
    "        for j=1:4\n",
    "            temp +=cos(x[j])\n",
    "        end\n",
    "        res += (4-temp+i*(1-cos(x[i]))-sin(x[i]))^2\n",
    "    end\n",
    "    return res\n",
    "end"
   ]
  },
  {
   "cell_type": "code",
   "execution_count": 81,
   "id": "1298525e",
   "metadata": {},
   "outputs": [
    {
     "name": "stdout",
     "output_type": "stream",
     "text": [
      "0.020090171856024568\n"
     ]
    },
    {
     "data": {
      "text/plain": [
       "([[0.25, 0.25, 0.25, 0.25], [0.07782041134323237, 0.4857593085381833, 0.3180379739507844, 0.39882777682563525], [0.14010013049157702, 0.40856366018542245, 0.2842181567685276, 0.3350240779371825], [0.1709681210557596, 0.33221241161627657, 0.30629883258109336, 0.31083366708473525], [0.22614565229478753, 0.6391979182543219, 0.1792946344540747, 0.21069959874330474], [0.2001108333327323, 0.5389409155024567, 0.18954465796666747, 0.19897992154670593], [0.18979741501779002, 0.48323634709315716, 0.21314812257471735, 0.210089769867072], [0.19256628008953114, 0.4414340630007816, 0.2533195722683113, 0.23766163720185463], [0.19753952662744104, 0.3374469823993256, 0.3567495512626348, 0.28380598526363343], [0.10003645033416546, -0.2787306436885787, 0.6465782483170492, 0.36353461602003956], [0.10957268176301503, -0.09335437503670208, 0.5213542986454692, 0.296897369430952], [0.11858575195159843, 0.02236263597094179, 0.4542876589071987, 0.25456159907279835], [0.1297450790308226, 0.0977331906123762, 0.431375837959428, 0.22761765612266605], [0.13985444975511185, 0.14165122528559615, 0.4306583046636021, 0.20969046149326243], [0.1447147041463139, 0.15789303696368231, 0.4261570965886628, 0.21501599254283515], [0.14547131054701837, 0.16013873628985134, 0.42499311593557626, 0.216791919484911], [0.1454861843128384, 0.16018148574735072, 0.424955120548663, 0.21684658127434417]], 17)"
      ]
     },
     "execution_count": 81,
     "metadata": {},
     "output_type": "execute_result"
    }
   ],
   "source": [
    "X2, iter2 = newton_method(f2,[0.25,0.25,0.25,0.25])"
   ]
  },
  {
   "cell_type": "code",
   "execution_count": 82,
   "id": "aad3ee4f",
   "metadata": {},
   "outputs": [
    {
     "name": "stdout",
     "output_type": "stream",
     "text": [
      "16.0\n"
     ]
    },
    {
     "data": {
      "text/plain": [
       "([[1.0, 1.0], [500001.0, 1.000001e6], [333334.000002, 666667.3333333333], [222222.66667274997, 444444.8888878888], [148148.44445956245, 296296.5925881759], [98765.62966516134, 197531.0617147632], [65843.75316822066, 131687.37444908707], [43895.83557750053, 87791.58289929669], [29263.890683943988, 58527.721775057675], [19509.261131433494, 39018.48081691592]  …  [341.5323310610032, 674.8162860677021], [232.74103540873892, 447.0566245371782], [166.30696166832394, 292.14015108208764], [134.40922060405447, 184.38004027151393], [133.6059895274098, 112.91843639924757], [151.31622093803622, 82.11769563395939], [158.76275306212375, 79.27731693334214], [158.75263191927243, 79.36696528281529], [158.7527066578374, 79.36690167055689], [158.75270665788787, 79.36690167054873]], 29)"
      ]
     },
     "execution_count": 82,
     "metadata": {},
     "output_type": "execute_result"
    }
   ],
   "source": [
    "f3(x) = (x[1]-10^6)^2+(x[2]-2*10^6)^2+(x[1]*x[2]-2)^2\n",
    "X3, iter3 = newton_method(f3,[1.,1.])"
   ]
  },
  {
   "cell_type": "code",
   "execution_count": 83,
   "id": "d43c946d",
   "metadata": {},
   "outputs": [
    {
     "name": "stdout",
     "output_type": "stream",
     "text": [
      "0.7155417527999327\n"
     ]
    },
    {
     "data": {
      "text/plain": [
       "([[0.5], [-0.125], [0.001953125], [-7.450580596923828e-9]], 4)"
      ]
     },
     "execution_count": 83,
     "metadata": {},
     "output_type": "execute_result"
    }
   ],
   "source": [
    "f4(x) = sqrt(1+x[1]^2)\n",
    "X4, iter4 = newton_method(f4,[0.5])"
   ]
  },
  {
   "cell_type": "code",
   "execution_count": 84,
   "id": "2e24bdd0",
   "metadata": {},
   "outputs": [
    {
     "name": "stdout",
     "output_type": "stream",
     "text": [
      "8.300698041599999e11\n"
     ]
    },
    {
     "data": {
      "text/plain": [
       "([[-3.0, -1.0, -3.0, -1.0], [-2.6965931306285, 6.1743635410837125, -2.665134767356961, 5.874591161998305], [-1.8921819960386113, 2.611321045596123, -1.8889954691735955, 2.6081915300923164], [-1.5201922755933612, 1.9887628559322645, -1.4877087456727252, 1.8482858411652852], [-1.2003034555937047, 1.2778324519203688, -1.2129490206696776, 1.3283434220716135], [-1.0321158349697654, 1.022615902192077, -1.0756432023463378, 1.121978916673909], [-0.8688947348883147, 0.7306463166696611, -1.1188969331208456, 1.251468062136755], [-0.6294583298944801, 0.34155965141624006, -1.2944059071224185, 1.6447557659383478], [-0.5265481407533945, 0.26985226171096105, -1.3086414449236077, 1.7126777510912568], [-0.10570461797802738, -0.16135124037986054, -1.4713974672650358, 2.1385041541224865]  …  [1.6268159313139796, 2.6363248034671436, -0.5581387807154404, -0.5667599752459607], [1.3299364212880422, 1.6797451253566464, -0.5594669519430155, 0.3150914967427878], [1.2742531567179562, 1.6179258024153802, -0.6346162117612537, 0.3968098282137414], [1.1663787315542737, 1.3489646888196567, -0.8220196520827989, 0.6423467820941371], [1.1245487380966495, 1.262982510963541, -0.8545205361269065, 0.7304683982953846], [1.0136116699773474, 1.015001566121509, -1.0040466913598087, 0.9857056578947363], [1.0023144694268389, 1.0043798031361035, -0.9984829944161857, 0.9968131881745202], [1.0000614424253238, 1.0001175469434442, -0.9999423301783071, 0.9998827607112882], [1.0000000340800603, 1.0000000642315234, -0.9999999696377718, 0.9999999360629297], [1.0000000000000173, 1.0000000000000335, -0.9999999999999835, 0.9999999999999661]], 22)"
      ]
     },
     "execution_count": 84,
     "metadata": {},
     "output_type": "execute_result"
    }
   ],
   "source": [
    "f5(x) = 100*(x[2]-x[1]^2)^2+(1-x[1])^2+90*(x[4]-x[3]^2)^2+10*(x[2]+x[4]-2)^2+0.1*(x[2]-x[4])^2\n",
    "X5, iter5 = newton_method(f5,[-3.,-1.,-3.,-1.])"
   ]
  },
  {
   "cell_type": "code",
   "execution_count": null,
   "id": "250b0055",
   "metadata": {},
   "outputs": [],
   "source": []
  },
  {
   "cell_type": "code",
   "execution_count": 85,
   "id": "455bec02",
   "metadata": {},
   "outputs": [
    {
     "data": {
      "text/plain": [
       "global_newton_method (generic function with 1 method)"
      ]
     },
     "execution_count": 85,
     "metadata": {},
     "output_type": "execute_result"
    }
   ],
   "source": [
    "function global_newton_method(f,x)\n",
    "    iter=0\n",
    "    X=[x]\n",
    "    ρ=10^(-8)\n",
    "    p = 2.1\n",
    "    σ=10^(-4)\n",
    "    β=0.5\n",
    "    while iter<kmax\n",
    "        iter+=1\n",
    "        grad = ForwardDiff.gradient(f,x)::Vector{Float64}\n",
    "        \n",
    "        if norm(grad) < ϵ\n",
    "            return X, iter\n",
    "        end\n",
    "        hessian = ForwardDiff.hessian(f, x)::Matrix{Float64}\n",
    "        d = -hessian\\grad\n",
    "        #d = reshape(d,length(x))\n",
    "        if dot(grad,d) > -ρ*(norm(d)^p)\n",
    "            d = -grad\n",
    "        end\n",
    "        t=1\n",
    "        while f(x+t*d) > f(x)+σ*t*dot(grad,d)\n",
    "            t=t*β\n",
    "        end\n",
    "        \n",
    "        x=x+t*d\n",
    "        \n",
    "        push!(X,x)\n",
    "    end\n",
    "    return X, iter\n",
    "end"
   ]
  },
  {
   "cell_type": "code",
   "execution_count": 86,
   "id": "beb92baa",
   "metadata": {},
   "outputs": [
    {
     "name": "stdout",
     "output_type": "stream",
     "text": [
      "local: [0.9999999999999999, 0.9999999999814724] 7 3.4326461875363225e-20\n",
      "global: [0.9999999999400667, 0.9999999998789006] 22 3.743975643139474e-21\n"
     ]
    }
   ],
   "source": [
    "X12, iter12 = global_newton_method(f1,[-1.2,1])\n",
    "println(\"local: \", X1[length(X1)],' ',iter1,' ',f1(X1[length(X1)]))\n",
    "println(\"global: \", X12[length(X12)],' ',iter12,' ',f1(X12[length(X12)]))"
   ]
  },
  {
   "cell_type": "code",
   "execution_count": 87,
   "id": "4496a315",
   "metadata": {},
   "outputs": [
    {
     "name": "stdout",
     "output_type": "stream",
     "text": [
      "local: [0.1454861843128384, 0.16018148574735072, 0.424955120548663, 0.21684658127434417] 17 0.00030282411488750965\n",
      "global: [0.14548631551079505, 0.1601816660838315, 0.4249549748070167, 0.2168472089458203] 9 0.00030282411491855816\n"
     ]
    }
   ],
   "source": [
    "X22, iter22 = global_newton_method(f2,[0.25,0.25,0.25,0.25])\n",
    "println(\"local: \", X2[length(X2)],' ',iter2,' ',f2(X2[length(X2)]))\n",
    "println(\"global: \", X22[length(X22)],' ',iter22,' ',f2(X22[length(X22)]))"
   ]
  },
  {
   "cell_type": "code",
   "execution_count": 88,
   "id": "dd7d7a74",
   "metadata": {},
   "outputs": [
    {
     "name": "stdout",
     "output_type": "stream",
     "text": [
      "local: [158.75270665788787, 79.36690167054873] 29 4.999523760790345e12\n",
      "global: [1.2500000000001564e-6, 1.999999999999375e6] 23 3.9999999999975106e14\n"
     ]
    }
   ],
   "source": [
    "X32, iter32 = global_newton_method(f3,[1.,1.])\n",
    "println(\"local: \", X3[length(X3)],' ',iter3,' ',f3(X3[length(X3)]))\n",
    "println(\"global: \", X32[length(X32)],' ',iter32,' ',f1(X32[length(X32)]))"
   ]
  },
  {
   "cell_type": "code",
   "execution_count": 89,
   "id": "34680215",
   "metadata": {},
   "outputs": [
    {
     "name": "stdout",
     "output_type": "stream",
     "text": [
      "4.999523760790345e12"
     ]
    }
   ],
   "source": [
    "print(f3(X3[iter3]))"
   ]
  },
  {
   "cell_type": "code",
   "execution_count": 90,
   "id": "52589b58",
   "metadata": {},
   "outputs": [
    {
     "name": "stdout",
     "output_type": "stream",
     "text": [
      "9.999999999977501e11"
     ]
    }
   ],
   "source": [
    "print(f3(X32[iter32]))"
   ]
  },
  {
   "cell_type": "code",
   "execution_count": 91,
   "id": "40e4be4b",
   "metadata": {},
   "outputs": [
    {
     "data": {
      "text/plain": [
       "([[1.0], [1.1102230246251565e-16]], 2)"
      ]
     },
     "execution_count": 91,
     "metadata": {},
     "output_type": "execute_result"
    }
   ],
   "source": [
    "X42, iter42 = global_newton_method(f4,[1.])"
   ]
  },
  {
   "cell_type": "code",
   "execution_count": 92,
   "id": "91eca3fa",
   "metadata": {},
   "outputs": [
    {
     "name": "stdout",
     "output_type": "stream",
     "text": [
      "local: [1.0000000000000173, 1.0000000000000335, -0.9999999999999835, 0.9999999999999661] 22 9.337019303954115e-28\n",
      "global: [0.9999999999999722, 0.999999999999944, -1.0000000000000289, 1.0000000000000566] 25 2.1762650918978088e-27\n"
     ]
    }
   ],
   "source": [
    "X52, iter52 = global_newton_method(f5,[-3.,-1.,-3.,-1.])\n",
    "println(\"local: \", X5[length(X5)],' ',iter5,' ',f5(X5[length(X5)]))\n",
    "println(\"global: \", X52[length(X52)],' ',iter52,' ',f5(X52[length(X52)]))"
   ]
  },
  {
   "cell_type": "code",
   "execution_count": null,
   "id": "245e5b05",
   "metadata": {},
   "outputs": [],
   "source": []
  }
 ],
 "metadata": {
  "kernelspec": {
   "display_name": "Julia 1.8.2",
   "language": "julia",
   "name": "julia-1.8"
  },
  "language_info": {
   "file_extension": ".jl",
   "mimetype": "application/julia",
   "name": "julia",
   "version": "1.8.2"
  }
 },
 "nbformat": 4,
 "nbformat_minor": 5
}
