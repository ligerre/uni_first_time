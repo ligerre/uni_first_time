{
 "cells": [
  {
   "cell_type": "code",
   "execution_count": 1,
   "id": "16b9e045",
   "metadata": {},
   "outputs": [],
   "source": [
    "using LinearAlgebra, ForwardDiff"
   ]
  },
  {
   "cell_type": "code",
   "execution_count": 2,
   "id": "bfe26696",
   "metadata": {},
   "outputs": [
    {
     "data": {
      "text/plain": [
       "1.0e-6"
      ]
     },
     "execution_count": 2,
     "metadata": {},
     "output_type": "execute_result"
    }
   ],
   "source": [
    "kmax = 200\n",
    "ϵ=10^(-6)"
   ]
  },
  {
   "cell_type": "code",
   "execution_count": 14,
   "id": "73b1eec2",
   "metadata": {},
   "outputs": [
    {
     "data": {
      "text/plain": [
       "lagrange_newton (generic function with 1 method)"
      ]
     },
     "execution_count": 14,
     "metadata": {},
     "output_type": "execute_result"
    }
   ],
   "source": [
    "function lagrange_newton(f,hs,x_0,μ_0)\n",
    "    ∇f(x) = ForwardDiff.gradient(f, x)\n",
    "    ∇2f(x) = ForwardDiff.jacobian(∇f, x)\n",
    "    ∇hs = [x -> ForwardDiff.gradient(h, x) for h in hs]\n",
    "    \n",
    "    ∇h2s = [x -> ForwardDiff.jacobian(h, x) for h in ∇hs]\n",
    "    ℒ(x,μs) = f(x) + sum(μ * h(x) for (μ,h) in zip(μs,hs))\n",
    "    ∂ℒ∂x(x,μs) = ∇f(x) + sum(μ * ∇h(x) for (μ,∇h) in zip(μs,∇hs))\n",
    "    ∂ℒ∂λ(x,μs) = [h(x) for h in hs]\n",
    "    L_0 = ∂ℒ∂x(x_0,μ_0)\n",
    "    h_0 = ∂ℒ∂λ(x_0,μ_0) \n",
    "\n",
    "    phi_0 = vcat(L_0,h_0)\n",
    "    iter=0\n",
    "    p =length(hs)\n",
    "    n = length(x_0)\n",
    "    X=[x_0]::Vector{Vector{Float64}}\n",
    "    Mu=[μ_0]::Vector{Vector{Float64}}\n",
    "    while norm(phi_0)>ϵ && iter<kmax\n",
    "        iter+=1\n",
    "        println(norm(phi_0))\n",
    "        hessian = ∇2f(x_0)\n",
    "        for i in 1:p\n",
    "            hessian+=μ_0[i]*∇h2s[i](x_0)\n",
    "        end\n",
    "        for i in 1:p\n",
    "            hessian = hcat(hessian,∇hs[i](x_0))\n",
    "        end\n",
    "        temp = ∇hs[1](x_0)'\n",
    "        for i =2:p\n",
    "            temp = vcat(temp,∇hs[i](x_0)')\n",
    "        end\n",
    "        temp = hcat(temp,zeros(p,p))\n",
    "        hessian = vcat(hessian,temp)\n",
    "        delta = -hessian\\phi_0\n",
    "        delta_x = delta[1:n]\n",
    "        delta_μ = delta[n+1:n+p]\n",
    "        x_0=x_0+delta_x\n",
    "        μ_0=μ_0+delta_μ\n",
    "\n",
    "        L_0 = ∂ℒ∂x(x_0,μ_0)\n",
    "        h_0 = ∂ℒ∂λ(x_0,μ_0) \n",
    "        \n",
    "        phi_0 = vcat(L_0,h_0)\n",
    "        \n",
    "        push!(X,x_0)\n",
    "        push!(Mu,μ_0)\n",
    "\n",
    "    end\n",
    "    return X,Mu,iter\n",
    "end"
   ]
  },
  {
   "cell_type": "code",
   "execution_count": 15,
   "id": "1a7bc5a5",
   "metadata": {},
   "outputs": [
    {
     "data": {
      "text/plain": [
       "h (generic function with 1 method)"
      ]
     },
     "execution_count": 15,
     "metadata": {},
     "output_type": "execute_result"
    }
   ],
   "source": [
    "f(x) = 2*x[1]^4+x[2]^4+4*x[1]^2-x[1]*x[2]+6*x[2]^2\n",
    "h(x) = 2*x[1]-x[2]+4"
   ]
  },
  {
   "cell_type": "code",
   "execution_count": 16,
   "id": "09241bb5",
   "metadata": {},
   "outputs": [
    {
     "name": "stdout",
     "output_type": "stream",
     "text": [
      "4.0\n",
      "44.305796340071076\n",
      "5.155005942054521\n",
      "0.014977986102174719\n",
      "[0.0, 0.0] [0.0]\n",
      "[-1.7692307692307692, 0.46153846153846156] [7.3076923076923075]\n",
      "[-1.4523919988334946, 1.0952160023330109] [16.60806234685793]\n",
      "[-1.4678436439052165, 1.0643127121895668] [19.049612958985136]\n",
      "[-1.4679481134191408, 1.0641037731617182] [19.05680332151563]\n"
     ]
    }
   ],
   "source": [
    "X,Mu,iter=lagrange_newton(f,[h],[0.,0.],[0.])\n",
    "for i =1:iter+1\n",
    "    println(X[i],' ',Mu[i])\n",
    "end"
   ]
  },
  {
   "cell_type": "code",
   "execution_count": null,
   "id": "dec7f775",
   "metadata": {},
   "outputs": [],
   "source": []
  },
  {
   "cell_type": "code",
   "execution_count": 6,
   "id": "26b8156b",
   "metadata": {},
   "outputs": [
    {
     "data": {
      "text/plain": [
       "3×3 Matrix{Int64}:\n",
       "  8  -1   2\n",
       " -1  12  -1\n",
       "  2  -1   0"
      ]
     },
     "execution_count": 6,
     "metadata": {},
     "output_type": "execute_result"
    }
   ],
   "source": [
    "hh = [8 -1 2;-1 12 -1;2 -1 0]"
   ]
  },
  {
   "cell_type": "code",
   "execution_count": 7,
   "id": "88672c50",
   "metadata": {},
   "outputs": [
    {
     "data": {
      "text/plain": [
       "3-element Vector{Int64}:\n",
       " 0\n",
       " 0\n",
       " 4"
      ]
     },
     "execution_count": 7,
     "metadata": {},
     "output_type": "execute_result"
    }
   ],
   "source": [
    "p = [0; 0; 4]"
   ]
  },
  {
   "cell_type": "code",
   "execution_count": 8,
   "id": "6e016d6f",
   "metadata": {},
   "outputs": [
    {
     "name": "stdout",
     "output_type": "stream",
     "text": [
      "[1.7692307692307692, -0.46153846153846156, -7.3076923076923075]\n"
     ]
    }
   ],
   "source": [
    "println(hh\\p)"
   ]
  },
  {
   "cell_type": "code",
   "execution_count": 9,
   "id": "921cc97f",
   "metadata": {},
   "outputs": [
    {
     "data": {
      "text/plain": [
       "hh2 (generic function with 1 method)"
      ]
     },
     "execution_count": 9,
     "metadata": {},
     "output_type": "execute_result"
    }
   ],
   "source": [
    "g(x) = 1000 - x[1]^2-2*x[2]^2-x[3]^2-x[1]*x[2]-x[1]*x[3]\n",
    "hh1(x) = x[1]^2+x[2]^2+x[3]^2-25\n",
    "hh2(x)= 8*x[1]+14*x[2]+7*x[3]-56"
   ]
  },
  {
   "cell_type": "code",
   "execution_count": 10,
   "id": "211ae318",
   "metadata": {},
   "outputs": [
    {
     "name": "stdout",
     "output_type": "stream",
     "text": [
      "20.053967188563963\n",
      "2.658234546461622\n",
      "0.06180284051918647\n",
      "0.0008120789740890623\n",
      "[3.0, -0.2, 3.0] [0.0, 0.0]\n",
      "[3.691272302368432, 0.1448429284077118, 3.491717226192082] [1.3773201204440253, 0.3443980045840636]\n",
      "[3.5341892087710636, 0.2130278584864499, 3.5348709015744566] [1.226249628526347, 0.2745177511564703]\n",
      "[3.512232995511023, 0.21692122660935237, 3.5521769804829835] [1.2234663964043355, 0.2749360404862345]\n",
      "[3.5121213429077875, 0.21698794020251688, 3.5521711562717804] [1.2234635606459223, 0.274937101961764]\n"
     ]
    }
   ],
   "source": [
    "X2,Mu2,iter2=lagrange_newton(g,[hh1,hh2],[3,-.2,3],[0.,0.])\n",
    "for i =1:iter2+1\n",
    "    println(X2[i],' ',Mu2[i])\n",
    "end"
   ]
  },
  {
   "cell_type": "code",
   "execution_count": null,
   "id": "6168daa6",
   "metadata": {},
   "outputs": [],
   "source": []
  }
 ],
 "metadata": {
  "kernelspec": {
   "display_name": "Julia 1.8.2",
   "language": "julia",
   "name": "julia-1.8"
  },
  "language_info": {
   "file_extension": ".jl",
   "mimetype": "application/julia",
   "name": "julia",
   "version": "1.8.2"
  }
 },
 "nbformat": 4,
 "nbformat_minor": 5
}
