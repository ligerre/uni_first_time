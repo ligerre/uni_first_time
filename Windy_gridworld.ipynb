{
 "cells": [
  {
   "cell_type": "code",
   "execution_count": 7,
   "metadata": {
    "id": "2zacWKjArnva"
   },
   "outputs": [],
   "source": [
    "%matplotlib inline\n",
    "import numpy as np\n",
    "import random\n",
    "from matplotlib.animation import FuncAnimation\n",
    "from IPython.display import HTML"
   ]
  },
  {
   "cell_type": "code",
   "execution_count": 8,
   "metadata": {
    "id": "b8IjylbBrydd"
   },
   "outputs": [],
   "source": [
    "pos=[(-1,0),(1,0),(0,-1),(0,1),(-1,-1),(1,1),(-1,1),(1,-1)]\n",
    "class World(object):\n",
    "  def __init__(self,KingBool,StochWindBool):\n",
    "    self.width=10\n",
    "    self.height=7\n",
    "    self.start=(3,0) #row,col\n",
    "    self.current=self.start\n",
    "    self.goal=(3,7)\n",
    "    self.wind=[0,0,0,1,1,1,2,2,1,0]\n",
    "    self.stochwind=StochWindBool\n",
    "    self.king=KingBool\n",
    "    self.ndir=4\n",
    "    if self.king:\n",
    "      self.ndir=8\n",
    "  def move(self,action):\n",
    "    new_pos=np.add(list(self.current),list(action))\n",
    "    new_pos[0]=new_pos[0]-self.wind[self.current[1]]\n",
    "    if self.stochwind:\n",
    "      wind = random.choice([1, 0, -1])\n",
    "      if self.wind[self.current[1]]!=0:\n",
    "        new_pos[0]=new_pos[0]+wind\n",
    "    new_pos[0]=max(0,min(new_pos[0],self.height-1))\n",
    "    new_pos[1]=max(0,min(new_pos[1],self.width-1))\n",
    "    goal=list(self.goal)\n",
    "    if (new_pos[0]==goal[0]) and (new_pos[1]==goal[1]):\n",
    "      reward=1\n",
    "    else:\n",
    "      reward=-1\n",
    "    return [(new_pos[0],new_pos[1]),reward]\n",
    "\n",
    "  def check(self,pos,action):\n",
    "    new_pos=np.add(list(pos),list(action))\n",
    "    if (new_pos[0]<0) or (new_pos[0]>=self.height) or (new_pos[1]<0) or (new_pos[1]>=self.width):\n",
    "      return False\n",
    "    return True\n",
    "\n",
    "  def generate_possible_action(self,position):\n",
    "    action=[]\n",
    "    for i in range(self.ndir):\n",
    "      if self.check(position,pos[i]):\n",
    "        action.append(pos[i])\n",
    "    return action"
   ]
  },
  {
   "cell_type": "code",
   "execution_count": 9,
   "metadata": {
    "id": "2n60sis6vajo"
   },
   "outputs": [],
   "source": [
    "class Agent(object):\n",
    "  def __init__(self,a,e,world:World):\n",
    "    self.alpha=a\n",
    "    self.epsilon=e\n",
    "    self.gamma=0.9\n",
    "    self.world=world\n",
    "    self.Q_val=self.make_table()\n",
    "    self.step_num=0\n",
    "\n",
    "  def make_table(self):\n",
    "    Table={}\n",
    "    for x in range(self.world.height):\n",
    "      for y in range(self.world.width):\n",
    "        pos=(x,y)\n",
    "        Table[pos]={}\n",
    "        actions=self.world.generate_possible_action(pos)\n",
    "        for action in actions:\n",
    "          Table[pos][action]=0\n",
    "    return Table\n",
    "\n",
    "  def get_best(self,pos):\n",
    "    maxVal=np.NINF\n",
    "    bestAction= None\n",
    "    for (action, value) in self.Q_val[pos].items():\n",
    "      if value>maxVal:\n",
    "        maxVal=value\n",
    "        bestAction=action\n",
    "    return bestAction\n",
    "  \n",
    "  def choose_action(self,pos):\n",
    "    legal_action=list(self.Q_val[pos].keys())\n",
    "    nextState=self.world.start\n",
    "    action=None\n",
    "\n",
    "    randNum = np.random.rand()\n",
    "\n",
    "    if randNum<self.epsilon:\n",
    "      explore = random.randint(0,len(legal_action)-1)\n",
    "      action = legal_action[explore]\n",
    "    else:\n",
    "      action = self.get_best(pos)\n",
    "    \n",
    "    nextState=np.add(pos,action)\n",
    "    temp = nextState[0]-self.world.wind[pos[1]]\n",
    "    if temp<0:\n",
    "      temp=0\n",
    "    nextState[0]=temp\n",
    "    return action\n",
    "\n",
    "  def Sarsa(self):\n",
    "    self.world.current=self.world.start\n",
    "    visited=[]\n",
    "    action_taken=[]\n",
    "    visited.append(self.world.start)\n",
    "    chosen_action=self.choose_action(self.world.current)\n",
    "    newPosReward=None\n",
    "    converged=True\n",
    "    nstep=0\n",
    "    while True:\n",
    "      #take A observe R and S'\n",
    "      newPosReward=self.world.move(chosen_action)\n",
    "      newPos=newPosReward[0]\n",
    "      reward=newPosReward[1]\n",
    "      visited.append(newPos)\n",
    "      action_taken.append(chosen_action)\n",
    "      self.step_num+=1\n",
    "      nstep+=1\n",
    "      #choose A' from S' with greedy\n",
    "      nextAction = self.choose_action(newPos)\n",
    "\n",
    "      #update Q\n",
    "      oldQ=self.Q_val[self.world.current][chosen_action]\n",
    "      self.Q_val[self.world.current][chosen_action]+=self.alpha*(reward+self.gamma*self.Q_val[newPos][nextAction]-self.Q_val[self.world.current][chosen_action])\n",
    "\n",
    "      if abs(oldQ-self.Q_val[self.world.current][chosen_action])>0.0001:\n",
    "        converged=False\n",
    "      self.world.current = newPos\n",
    "      chosen_action = nextAction\n",
    "\n",
    "      if (self.world.current == self.world.goal):\n",
    "        break\n",
    "\n",
    "    return converged, visited, action_taken\n",
    "\n",
    "  def play(self):\n",
    "    self.world.current=self.world.start\n",
    "    visited=[]\n",
    "    action_taken=[]\n",
    "    visited.append(self.world.start)\n",
    "    chosen_action=self.get_best(self.world.current)\n",
    "    while True:\n",
    "       newPosReward=self.world.move(chosen_action)\n",
    "       newPos=newPosReward[0]\n",
    "       visited.append(newPos)\n",
    "       action_taken.append(chosen_action)\n",
    "\n",
    "       nextAction = self.get_best(newPos)\n",
    "\n",
    "       self.world.current = newPos\n",
    "       chosen_action = nextAction\n",
    "       \n",
    "       if (self.world.current == self.world.goal):\n",
    "         break\n",
    "    return visited, action_taken"
   ]
  },
  {
   "cell_type": "code",
   "execution_count": 10,
   "metadata": {
    "colab": {
     "base_uri": "https://localhost:8080/",
     "height": 352
    },
    "id": "HHN6Rjiq3Ylr",
    "outputId": "70a6bb4b-fae0-40e1-bc5d-444a2e79c19c"
   },
   "outputs": [
    {
     "data": {
      "image/png": "[encoded data removed]",
      "text/plain": [
       "<Figure size 432x288 with 1 Axes>"
      ]
     },
     "metadata": {
      "needs_background": "light"
     },
     "output_type": "display_data"
    },
    {
     "name": "stdout",
     "output_type": "stream",
     "text": [
      "15.572657265726573\n"
     ]
    }
   ],
   "source": [
    "testWorld = World(KingBool=True, StochWindBool=True)\n",
    "testAgent = Agent(0.1, 0.001, testWorld)\n",
    "timestep=[0]\n",
    "episode = [0]\n",
    "convergedX=[]\n",
    "convergedY=[]\n",
    "\n",
    "alreadyConverged = False\n",
    "for x in range(10000):\n",
    "  testAgent.epsilon=1/(10*(x+1))\n",
    "  result=testAgent.Sarsa()\n",
    "  timestep.append(testAgent.step_num)\n",
    "  episode.append(x)\n",
    "  if (result[0] and not alreadyConverged):\n",
    "    print('found optimal')\n",
    "    print(result[1])\n",
    "    final_path = result[1]\n",
    "    print('list of action')\n",
    "    print(result[2])\n",
    "    route=result[1]\n",
    "    convergedX.append(x)\n",
    "    convergedY.append(testAgent.step_num)\n",
    "    alreadyConverged = True\n",
    "\n",
    "from matplotlib import pyplot as plt\n",
    "plt.plot(timestep,episode,'r--',convergedY,convergedX,'bs')\n",
    "plt.show()\n",
    "print(timestep[-1]/episode[-1])\n",
    "#print(convergedX)\n",
    "#print(convergedY)\n"
   ]
  },
  {
   "cell_type": "code",
   "execution_count": 11,
   "metadata": {
    "colab": {
     "base_uri": "https://localhost:8080/",
     "height": 609
    },
    "id": "p2z6lm6M0Z5s",
    "outputId": "1e649382-b1fd-427b-9ed5-dffd5278a809"
   },
   "outputs": [
    {
     "name": "stdout",
     "output_type": "stream",
     "text": [
      "8\n",
      "[(3, 0), (4, 1), (5, 2), (5, 3), (4, 4), (4, 5), (5, 6), (3, 7)]\n",
      "[(1, 1), (1, 1), (0, 1), (1, 1), (1, 1), (1, 1), (1, 1)]\n"
     ]
    },
    {
     "data": {
      "image/png": "[encoded data removed]",
      "text/plain": [
       "<Figure size 432x288 with 1 Axes>"
      ]
     },
     "metadata": {
      "needs_background": "light"
     },
     "output_type": "display_data"
    }
   ],
   "source": [
    "route = testAgent.play()\n",
    "print(len(route[0]))\n",
    "print(route[0])\n",
    "print(route[1])\n",
    "L = 7\t\t\t\t\n",
    "C = 10\t\t\t\n",
    "fig, ax = plt.subplots()\t# Create figure\n",
    "a = np.zeros((L,C))\t\t# Create zero array of dimensions L,C\n",
    "a[3][7]=1\n",
    "a[3][0]=1\n",
    "def animate(c):\n",
    "  if c>0:\n",
    "    a[route[0][c-1][0],route[0][c-1][1]]=0\n",
    "  a[route[0][c][0],route[0][c][1]]=1\n",
    "\n",
    "  ax.imshow(a, cmap=plt.cm.gray, interpolation='nearest')\n",
    "  \n",
    "anim = FuncAnimation(fig, animate,frames=len(route[0]), interval=2000/len(route))\n",
    "plt.show()\n",
    "                               \n",
    "#HTML(anim.to_html5_video())"
   ]
  },
  {
   "cell_type": "code",
   "execution_count": 12,
   "metadata": {
    "id": "Bd02bHuw4q2a"
   },
   "outputs": [],
   "source": [
    "def draw_path(path):\n",
    "    \n",
    "    x = [point[1]+0.5 for point in path]\n",
    "    y = [-point[0]-0.5 for point in path]\n",
    "    \n",
    "    fig, ax = plt.subplots()\n",
    "    ax.plot(x, y)\n",
    "    ax.scatter([0.5, 7.5], [-3.5, -3.5]) #start and goal\n",
    "    \n",
    "    ax.set_xlim(0, 10)\n",
    "    ax.set_ylim(-7, 0)\n",
    "    \n",
    "    ax.set_xticks([0.5, 1.5, 2.5, 3.5, 4.5, 5.5, 6.5, 7.5, 8.5, 9.5], minor=False)\n",
    "    ax.set_xticklabels(['0', '0', '0', '1', '1', '1', '2', '2', '1', '0'], minor=False)\n",
    "    ax.set_xticks([0, 1, 2, 3, 4, 5, 6, 7, 8, 9], minor=True)\n",
    "    ax.set_yticks([0, -1, -2, -3, -4, -5, -6, -7], minor=False)\n",
    "    ax.tick_params(axis='y', colors='white')\n",
    "    \n",
    "    ax.xaxis.grid(True, which='minor')\n",
    "    ax.yaxis.grid(True, which='major')"
   ]
  },
  {
   "cell_type": "code",
   "execution_count": 20,
   "metadata": {
    "colab": {
     "base_uri": "https://localhost:8080/",
     "height": 269
    },
    "id": "2bpuvAZG5Eu1",
    "outputId": "a027b5f5-ad43-45ce-e900-9a516a473675"
   },
   "outputs": [
    {
     "data": {
      "image/png": "[encoded data removed]",
      "text/plain": [
       "<Figure size 432x288 with 1 Axes>"
      ]
     },
     "metadata": {},
     "output_type": "display_data"
    }
   ],
   "source": [
    "route = testAgent.play()\n",
    "draw_path(route[0])"
   ]
  },
  {
   "cell_type": "code",
   "execution_count": 10,
   "metadata": {
    "colab": {
     "base_uri": "https://localhost:8080/",
     "height": 265
    },
    "id": "3ITz2lwkTilS",
    "outputId": "e5d91c11-062e-4a31-bdca-3e1702631ec4"
   },
   "outputs": [
    {
     "data": {
      "image/png": "[encoded data removed]",
      "text/plain": [
       "<Figure size 432x288 with 1 Axes>"
      ]
     },
     "metadata": {
      "needs_background": "light"
     },
     "output_type": "display_data"
    }
   ],
   "source": [
    "alphas = [0.1,0.2,0.3,0.4,0.5,0.6,0.7,0.8,0.9] #picking choosing the best alpha for fixed epsilon\n",
    "results = []\n",
    "for alpha in alphas:\n",
    "  testWorld = World(KingBool=True, StochWindBool=True)\n",
    "  testAgent = Agent(alpha, 0.01, testWorld)\n",
    "  timestep=[0]\n",
    "  episode = [0]\n",
    "  convergedX=[]\n",
    "  convergedY=[]\n",
    "\n",
    "  #alreadyConverged = False\n",
    "  for x in range(1000):\n",
    "    result=testAgent.Sarsa()\n",
    "    timestep.append(testAgent.step_num)\n",
    "    episode.append(x)\n",
    "  results.append(timestep[-1]/episode[-1])\n",
    "plt.plot(alphas,results)\n",
    "plt.show()"
   ]
  },
  {
   "cell_type": "code",
   "execution_count": 11,
   "metadata": {
    "colab": {
     "base_uri": "https://localhost:8080/"
    },
    "id": "jVxFxK31UyDY",
    "outputId": "3a5ea150-a8f7-4e5e-ba7f-8bac90bd84a0"
   },
   "outputs": [
    {
     "name": "stdout",
     "output_type": "stream",
     "text": [
      "(0.9, 0.0001)   18.935871743486974\n"
     ]
    }
   ],
   "source": [
    "alphas = [0.1,0.2,0.3,0.4,0.5,0.6,0.7,0.8,0.9]\n",
    "epsilons = [0.1,0.05,0.02,0.01,0.005,0.002,0.001,0.0005,0.0002,0.0001]\n",
    "bestVal = np.Inf\n",
    "bestPair = None \n",
    "for alpha in alphas:\n",
    "  for epsilon in epsilons:\n",
    "    testWorld = World(KingBool=False, StochWindBool=False)\n",
    "    testAgent = Agent(alpha, epsilon, testWorld)\n",
    "    timestep=[0]\n",
    "    episode = [0]\n",
    "    for x in range(500):\n",
    "      result=testAgent.Sarsa()\n",
    "      timestep.append(testAgent.step_num)\n",
    "      episode.append(x)\n",
    "    if timestep[-1]/episode[-1]<bestVal:\n",
    "      bestVal=timestep[-1]/episode[-1]\n",
    "      bestPair=(alpha,epsilon)\n",
    "print(bestPair,' ',bestVal)"
   ]
  },
  {
   "cell_type": "code",
   "execution_count": null,
   "metadata": {
    "id": "qRaMOaVy-2k1"
   },
   "outputs": [],
   "source": []
  },
  {
   "cell_type": "code",
   "execution_count": null,
   "metadata": {},
   "outputs": [],
   "source": []
  }
 ],
 "metadata": {
  "colab": {
   "collapsed_sections": [],
   "name": "Windy_gridworld",
   "provenance": []
  },
  "kernelspec": {
   "display_name": "Python 3 (ipykernel)",
   "language": "python",
   "name": "python3"
  },
  "language_info": {
   "codemirror_mode": {
    "name": "ipython",
    "version": 3
   },
   "file_extension": ".py",
   "mimetype": "text/x-python",
   "name": "python",
   "nbconvert_exporter": "python",
   "pygments_lexer": "ipython3",
   "version": "3.8.12"
  }
 },
 "nbformat": 4,
 "nbformat_minor": 1
}
